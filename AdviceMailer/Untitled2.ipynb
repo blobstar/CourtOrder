{
 "cells": [
  {
   "cell_type": "code",
   "execution_count": 1,
   "id": "2ffdabbf-e629-4e3c-b9ff-209b4244dc52",
   "metadata": {},
   "outputs": [],
   "source": [
    "import PySimpleGUI as sg\n",
    "import sys\n",
    "\n",
    "if len(sys.argv) == 1:\n",
    "    event, values = sg.Window('My Script',\n",
    "                    [[sg.Text('Document to open')],\n",
    "                    [sg.In(), sg.FileBrowse()],\n",
    "                    [sg.Open(), sg.Cancel()]]).read(close=True)\n",
    "    fname = values[0]\n",
    "else:\n",
    "    fname = sys.argv[1]\n",
    "\n",
    "if not fname:\n",
    "    sg.popup(\"Cancel\", \"No filename supplied\")\n",
    "    raise SystemExit(\"Cancelling: no filename supplied\")\n",
    "else:\n",
    "    sg.popup('The filename you chose was', fname)"
   ]
  },
  {
   "cell_type": "code",
   "execution_count": null,
   "id": "71cf8c34-a734-43ea-93cc-ebac2e4cac91",
   "metadata": {},
   "outputs": [],
   "source": []
  },
  {
   "cell_type": "code",
   "execution_count": null,
   "id": "351296f6-6214-4c92-8d90-e5928576b94e",
   "metadata": {},
   "outputs": [],
   "source": []
  }
 ],
 "metadata": {
  "kernelspec": {
   "display_name": "Python 3 (ipykernel)",
   "language": "python",
   "name": "python3"
  },
  "language_info": {
   "codemirror_mode": {
    "name": "ipython",
    "version": 3
   },
   "file_extension": ".py",
   "mimetype": "text/x-python",
   "name": "python",
   "nbconvert_exporter": "python",
   "pygments_lexer": "ipython3",
   "version": "3.11.1"
  }
 },
 "nbformat": 4,
 "nbformat_minor": 5
}
